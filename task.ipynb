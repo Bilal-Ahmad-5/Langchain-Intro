{
 "cells": [
  {
   "cell_type": "code",
   "execution_count": 2,
   "metadata": {},
   "outputs": [],
   "source": [
    "from langchain_community.document_loaders import PyPDFLoader\n",
    "\n",
    "loader = PyPDFLoader(\"data/COMMUNICATION SKILLS-1.pdf\")\n",
    "data = loader.load()"
   ]
  },
  {
   "cell_type": "code",
   "execution_count": 3,
   "metadata": {},
   "outputs": [
    {
     "data": {
      "text/plain": [
       "Document(metadata={'source': 'data/COMMUNICATION SKILLS-1.pdf', 'page': 0}, page_content='GOKARAJU\\x00RANGARAJUInstitute\\x00of\\x00Engineering\\x00and\\x00Technology\\n(Autonomous)Dr. T. Jagannadha Swamy\\nDean Career Guidance Compiled by \\nDr. K.V.S. Raju\\nDean T rainingCOMMUNICATION \\nSKILLS\\nSKILL\\nSERIES')"
      ]
     },
     "execution_count": 3,
     "metadata": {},
     "output_type": "execute_result"
    }
   ],
   "source": [
    "len(data) \n",
    "data[0]"
   ]
  },
  {
   "cell_type": "code",
   "execution_count": 4,
   "metadata": {},
   "outputs": [],
   "source": [
    "from langchain.text_splitter import RecursiveCharacterTextSplitter\n",
    "\n",
    "text_splitter = RecursiveCharacterTextSplitter(chunk_size=1000, chunk_overlap=0)\n",
    "\n",
    "texts = text_splitter.split_documents(data)"
   ]
  },
  {
   "cell_type": "code",
   "execution_count": 5,
   "metadata": {},
   "outputs": [
    {
     "data": {
      "text/plain": [
       "18"
      ]
     },
     "execution_count": 5,
     "metadata": {},
     "output_type": "execute_result"
    }
   ],
   "source": [
    "len(texts)\n"
   ]
  },
  {
   "cell_type": "code",
   "execution_count": 6,
   "metadata": {},
   "outputs": [
    {
     "name": "stderr",
     "output_type": "stream",
     "text": [
      "C:\\Users\\DELL 5300 A&I\\AppData\\Local\\Temp\\ipykernel_10220\\3059872029.py:3: LangChainDeprecationWarning: The class `HuggingFaceEmbeddings` was deprecated in LangChain 0.2.2 and will be removed in 1.0. An updated version of the class exists in the :class:`~langchain-huggingface package and should be used instead. To use it run `pip install -U :class:`~langchain-huggingface` and import as `from :class:`~langchain_huggingface import HuggingFaceEmbeddings``.\n",
      "  embed_model = HuggingFaceEmbeddings(model_name=\"BAAI/bge-small-en-v1.5\")\n"
     ]
    }
   ],
   "source": [
    "from langchain.embeddings import HuggingFaceEmbeddings\n",
    "\n",
    "embed_model = HuggingFaceEmbeddings(model_name=\"BAAI/bge-small-en-v1.5\")"
   ]
  },
  {
   "cell_type": "code",
   "execution_count": 10,
   "metadata": {},
   "outputs": [],
   "source": [
    "from langchain_pinecone import PineconeVectorStore as vectordb\n",
    "\n",
    "# from dotenv import load_dotenv\n",
    "# load_dotenv()\n",
    "index_name = \"new-index\"\n",
    "PINECONE_API_KEY = \"af51e754-6b68-41c0-a97a-f2a96bc5617b\"\n",
    "import os\n",
    "os.environ[\"PINECONE_API_KEY\"] = PINECONE_API_KEY\n",
    "\n",
    "vector_store = vectordb.from_documents(texts , embed_model , index_name = index_name)"
   ]
  },
  {
   "cell_type": "code",
   "execution_count": 11,
   "metadata": {},
   "outputs": [],
   "source": [
    "from langchain.retrievers import SVMRetriever\n",
    "\n",
    "text = [doc.page_content for doc in texts]\n",
    "svm_retriever = SVMRetriever.from_texts(text, embed_model )\n",
    "\n"
   ]
  },
  {
   "cell_type": "code",
   "execution_count": 23,
   "metadata": {},
   "outputs": [
    {
     "data": {
      "text/plain": [
       "1"
      ]
     },
     "execution_count": 23,
     "metadata": {},
     "output_type": "execute_result"
    }
   ],
   "source": [
    "from langchain_core.output_parsers import StrOutputParser\n",
    "from langchain_core.prompts import PromptTemplate\n",
    "from langchain.prompts import ChatPromptTemplate, HumanMessagePromptTemplate\n",
    "from langchain.llms import HuggingFaceHub\n",
    "from operator import itemgetter\n",
    "\n",
    "from dotenv import load_dotenv\n",
    "load_dotenv()\n",
    "import os\n",
    "os.environ[\"HUGGINGFACEHUB_API_TOKEN\"] = str(os.getenv(\"hf_token\"))\n",
    "\n",
    "\n",
    "prompt_str = \"\"\"  You are an AI language model assistent . your job is to generates five different versions of the user question \n",
    "    to retrieve relevant documents from vector databases . By generating different perspectives of user question , your goal is to \n",
    "    overcome some of the limitations of distance-based Similarity-search .\n",
    "    provide these alternative questions seperated by new lines\n",
    "  Question: {query}\n",
    "\"\"\"\n",
    "#prompt\n",
    "prompt = ChatPromptTemplate.from_template(prompt_str)\n",
    "\n",
    "#llm\n",
    "llm = HuggingFaceHub(repo_id=\"meta-llama/Llama-3.2-1B\")\n",
    "\n",
    "#generate the list of queries\n",
    "generate_query = prompt | llm | StrOutputParser() | (lambda x:x.split(\"/n\"))\n",
    "res=generate_query.invoke({'query':'how to communicate effectively ?'})\n",
    "len(res)"
   ]
  },
  {
   "cell_type": "code",
   "execution_count": 24,
   "metadata": {},
   "outputs": [],
   "source": [
    "\n",
    "#retrieve the list of queries from retriver\n",
    "\n",
    "from langchain.load import dumps, loads\n",
    "\n",
    "def get_unique_docs(documents: list[list]) -> list:\n",
    "    \"\"\"\n",
    "    Get unique documents from a list of lists of documents.\n",
    "\n",
    "    Args:\n",
    "        documents (list[list]): A list of lists containing documents.\n",
    "\n",
    "    Returns:\n",
    "        list: A list of unique documents.\n",
    "    \"\"\"\n",
    "    # Flatten the list of lists into a single list of documents\n",
    "    flattened_docs = [dumps(doc) for sublist in documents for doc in sublist]\n",
    "    \n",
    "    # Remove duplicates by converting to a set and back to a list\n",
    "    unique_docs = list(set(flattened_docs))\n",
    "    \n",
    "    # Load the unique documents back to their original format\n",
    "    return [loads(doc) for doc in unique_docs]\n",
    "\n",
    "retrival_chain = generate_query | svm_retriever.map() | get_unique_docs"
   ]
  },
  {
   "cell_type": "code",
   "execution_count": 26,
   "metadata": {},
   "outputs": [
    {
     "data": {
      "text/plain": [
       "4"
      ]
     },
     "execution_count": 26,
     "metadata": {},
     "output_type": "execute_result"
    }
   ],
   "source": [
    "res = retrival_chain.invoke({'query': 'what is the basic principle of comunication?'})\n",
    "len(res)"
   ]
  },
  {
   "cell_type": "code",
   "execution_count": 27,
   "metadata": {},
   "outputs": [],
   "source": [
    "from langchain.prompts import ChatPromptTemplate\n",
    "from operator import itemgetter\n",
    "from langchain_core.output_parsers import StrOutputParser\n",
    "#final prompt\n",
    "template = \"\"\"answer the question according to the provided context:\n",
    "{context}\n",
    "\n",
    "Question: {query}\n",
    "\"\"\"\n",
    "prompt = ChatPromptTemplate.from_template(template)\n",
    "\n",
    "final_rag_chain = ({'context': retrival_chain,'query': itemgetter('query')} | prompt | llm | StrOutputParser())"
   ]
  },
  {
   "cell_type": "code",
   "execution_count": 34,
   "metadata": {},
   "outputs": [
    {
     "data": {
      "text/plain": [
       "\"Human: answer the question according to the provided context:\\n[Document(metadata={}, page_content='GOKARAJU\\\\x00RANGARAJU\\\\nInstitute\\\\x00of\\\\x00Engineering\\\\x00and\\\\x00Technology\\\\n(Autonomous)'), Document(metadata={}, page_content='10\\\\nAbility to pay attention to and effectiv ely interpret what \\\\nother people are saying. For effectiv e listening, the \\\\nfollowing important components are required.\\\\n\\\\uf0a4 Accent\\\\n\\\\uf0a4 Speech\\\\n\\\\uf0a4 Sentence pattern\\\\n\\\\uf0a4 GestureSkills R equired for Effectiv e Listening:'), Document(metadata={}, page_content='attention to the messages people are sending with \\\\ntheir facial expressions and movements.'), Document(metadata={}, page_content='GOKARAJU\\\\x00RANGARAJUInstitute\\\\x00of\\\\x00Engineering\\\\x00and\\\\x00Technology\\\\n(Autonomous)Dr. T. Jagannadha Swamy\\\\nDean Career Guidance Compiled by \\\\nDr. K.V.S. Raju\\\\nDean T rainingCOMMUNICATION \\\\nSKILLS\\\\nSKILL\\\\nSERIES')]\\n\\nQuestion:  what are the common mistakes poeple do in communication ?\\nAnswer:  common mistakes poeple do in communication are :-\\n\\n1.  not listening to others\\n2.  not understanding what others are saying\\n3.  not being able to express oneself\\n4.  not being able to understand others\\n5.  not being able to understand oneself\\n6.  not being able to understand the situation\\n7.  not being able to understand the context\\n8.  not being able to understand the meaning\\n9.  not being\""
      ]
     },
     "execution_count": 34,
     "metadata": {},
     "output_type": "execute_result"
    }
   ],
   "source": [
    "res=final_rag_chain.invoke({'query':\" what are the common mistakes poeple do in communication ?\", 'context': retrival_chain})\n",
    "res"
   ]
  },
  {
   "cell_type": "code",
   "execution_count": null,
   "metadata": {},
   "outputs": [
    {
     "ename": "NameError",
     "evalue": "name 'chain' is not defined",
     "output_type": "error",
     "traceback": [
      "\u001b[1;31m---------------------------------------------------------------------------\u001b[0m",
      "\u001b[1;31mNameError\u001b[0m                                 Traceback (most recent call last)",
      "Cell \u001b[1;32mIn[10], line 11\u001b[0m\n\u001b[0;32m      4\u001b[0m \u001b[38;5;28;01mimport\u001b[39;00m \u001b[38;5;21;01mos\u001b[39;00m\n\u001b[0;32m      6\u001b[0m app \u001b[38;5;241m=\u001b[39m FastAPI(\n\u001b[0;32m      7\u001b[0m     title\u001b[38;5;241m=\u001b[39m\u001b[38;5;124m\"\u001b[39m\u001b[38;5;124mSimple rag application\u001b[39m\u001b[38;5;124m\"\u001b[39m,\n\u001b[0;32m      8\u001b[0m     version\u001b[38;5;241m=\u001b[39m\u001b[38;5;124m\"\u001b[39m\u001b[38;5;124m1.0.0\u001b[39m\u001b[38;5;124m\"\u001b[39m,\n\u001b[0;32m      9\u001b[0m     description\u001b[38;5;241m=\u001b[39m\u001b[38;5;124m\"\u001b[39m\u001b[38;5;124mthis is a simple rag application for communicating with clients\u001b[39m\u001b[38;5;124m\"\u001b[39m\n\u001b[0;32m     10\u001b[0m )\n\u001b[1;32m---> 11\u001b[0m add_routes(app, \u001b[43mchain\u001b[49m, path\u001b[38;5;241m=\u001b[39m\u001b[38;5;124m\"\u001b[39m\u001b[38;5;124m/chain\u001b[39m\u001b[38;5;124m\"\u001b[39m)\n\u001b[0;32m     13\u001b[0m \u001b[38;5;28;01mif\u001b[39;00m \u001b[38;5;18m__name__\u001b[39m \u001b[38;5;241m==\u001b[39m \u001b[38;5;124m\"\u001b[39m\u001b[38;5;124m__main__\u001b[39m\u001b[38;5;124m\"\u001b[39m:\n\u001b[0;32m     14\u001b[0m     \u001b[38;5;28;01mimport\u001b[39;00m \u001b[38;5;21;01masyncio\u001b[39;00m\n",
      "\u001b[1;31mNameError\u001b[0m: name 'chain' is not defined"
     ]
    }
   ],
   "source": [
    "from fastapi import FastAPI\n",
    "from langserve import add_routes\n",
    "import uvicorn\n",
    "import os\n",
    "\n",
    "app = FastAPI(\n",
    "    title=\"Simple rag application\",\n",
    "    version=\"1.0.0\",\n",
    "    description=\"this is a simple rag application for communicating with clients\"\n",
    ")\n",
    "add_routes(app, chain, path=\"/chain\")\n",
    "\n",
    "if __name__ == \"__main__\":\n",
    "    import asyncio\n",
    "\n",
    "    import nest_asyncio\n",
    "\n",
    "    nest_asyncio.apply()\n",
    "\n",
    "    uvicorn.run(app, host=\"127.0.0.1\", port=3000)"
   ]
  }
 ],
 "metadata": {
  "kernelspec": {
   "display_name": "myvenv",
   "language": "python",
   "name": "python3"
  },
  "language_info": {
   "codemirror_mode": {
    "name": "ipython",
    "version": 3
   },
   "file_extension": ".py",
   "mimetype": "text/x-python",
   "name": "python",
   "nbconvert_exporter": "python",
   "pygments_lexer": "ipython3",
   "version": "3.12.7"
  }
 },
 "nbformat": 4,
 "nbformat_minor": 2
}
